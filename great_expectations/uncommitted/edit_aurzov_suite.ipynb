{
 "cells": [
  {
   "cell_type": "markdown",
   "id": "b9886b6e",
   "metadata": {},
   "source": [
    "# Edit Your Expectation Suite\n",
    "Use this notebook to recreate and modify your expectation suite:\n",
    "\n",
    "**Expectation Suite Name**: `aurzov_suite`\n",
    "\n",
    "We'd love it if you **reach out to us on** the [**Great Expectations Slack Channel**](https://greatexpectations.io/slack)"
   ]
  },
  {
   "cell_type": "code",
   "execution_count": 2,
   "id": "ec8d8163",
   "metadata": {},
   "outputs": [
    {
     "name": "stdout",
     "output_type": "stream",
     "text": [
      "2021-05-23T11:21:14+1000 - INFO - Great Expectations logging enabled at 20 level by JupyterUX module.\n",
      "2021-05-23T11:21:17+1000 - INFO - Generating query from table batch_kwargs based on limit and offset\n",
      "2021-05-23T11:21:22+1000 - INFO - \t0 expectation(s) included in expectation_suite.\n"
     ]
    },
    {
     "data": {
      "text/html": [
       "<div>\n",
       "<style scoped>\n",
       "    .dataframe tbody tr th:only-of-type {\n",
       "        vertical-align: middle;\n",
       "    }\n",
       "\n",
       "    .dataframe tbody tr th {\n",
       "        vertical-align: top;\n",
       "    }\n",
       "\n",
       "    .dataframe thead th {\n",
       "        text-align: right;\n",
       "    }\n",
       "</style>\n",
       "<table border=\"1\" class=\"dataframe\">\n",
       "  <thead>\n",
       "    <tr style=\"text-align: right;\">\n",
       "      <th></th>\n",
       "      <th>user_id</th>\n",
       "      <th>pay_doc_type</th>\n",
       "      <th>pay_doc_num</th>\n",
       "      <th>account</th>\n",
       "      <th>phone</th>\n",
       "      <th>billing_period</th>\n",
       "      <th>pay_date</th>\n",
       "      <th>sum</th>\n",
       "    </tr>\n",
       "  </thead>\n",
       "  <tbody>\n",
       "    <tr>\n",
       "      <th>0</th>\n",
       "      <td>10750</td>\n",
       "      <td>MASTER</td>\n",
       "      <td>8508</td>\n",
       "      <td>FL-15610</td>\n",
       "      <td>+79017152002</td>\n",
       "      <td>2020-05</td>\n",
       "      <td>2014-10-24</td>\n",
       "      <td>48270.0</td>\n",
       "    </tr>\n",
       "    <tr>\n",
       "      <th>1</th>\n",
       "      <td>10630</td>\n",
       "      <td>MIR</td>\n",
       "      <td>36934</td>\n",
       "      <td>FL-24676</td>\n",
       "      <td>+79015101008</td>\n",
       "      <td>2019-03</td>\n",
       "      <td>2014-12-29</td>\n",
       "      <td>30363.0</td>\n",
       "    </tr>\n",
       "    <tr>\n",
       "      <th>2</th>\n",
       "      <td>10890</td>\n",
       "      <td>MASTER</td>\n",
       "      <td>44227</td>\n",
       "      <td>FL-33255</td>\n",
       "      <td>+79012368126</td>\n",
       "      <td>2013-09</td>\n",
       "      <td>2014-05-06</td>\n",
       "      <td>48531.0</td>\n",
       "    </tr>\n",
       "    <tr>\n",
       "      <th>3</th>\n",
       "      <td>11170</td>\n",
       "      <td>MASTER</td>\n",
       "      <td>15992</td>\n",
       "      <td>FL-42781</td>\n",
       "      <td>+79019287312</td>\n",
       "      <td>2017-02</td>\n",
       "      <td>2014-06-11</td>\n",
       "      <td>14952.0</td>\n",
       "    </tr>\n",
       "    <tr>\n",
       "      <th>4</th>\n",
       "      <td>10650</td>\n",
       "      <td>MASTER</td>\n",
       "      <td>2180</td>\n",
       "      <td>FL-24148</td>\n",
       "      <td>+79014388888</td>\n",
       "      <td>2013-02</td>\n",
       "      <td>2014-12-03</td>\n",
       "      <td>18102.0</td>\n",
       "    </tr>\n",
       "  </tbody>\n",
       "</table>\n",
       "</div>"
      ],
      "text/plain": [
       "   user_id pay_doc_type  pay_doc_num   account         phone billing_period  \\\n",
       "0    10750       MASTER         8508  FL-15610  +79017152002        2020-05   \n",
       "1    10630          MIR        36934  FL-24676  +79015101008        2019-03   \n",
       "2    10890       MASTER        44227  FL-33255  +79012368126        2013-09   \n",
       "3    11170       MASTER        15992  FL-42781  +79019287312        2017-02   \n",
       "4    10650       MASTER         2180  FL-24148  +79014388888        2013-02   \n",
       "\n",
       "     pay_date      sum  \n",
       "0  2014-10-24  48270.0  \n",
       "1  2014-12-29  30363.0  \n",
       "2  2014-05-06  48531.0  \n",
       "3  2014-06-11  14952.0  \n",
       "4  2014-12-03  18102.0  "
      ]
     },
     "execution_count": 2,
     "metadata": {},
     "output_type": "execute_result"
    }
   ],
   "source": [
    "import datetime\n",
    "import great_expectations as ge\n",
    "import great_expectations.jupyter_ux\n",
    "from great_expectations.checkpoint import LegacyCheckpoint\n",
    "from great_expectations.data_context.types.resource_identifiers import ValidationResultIdentifier\n",
    "\n",
    "context = ge.data_context.DataContext()\n",
    "\n",
    "# Feel free to change the name of your suite here. Renaming this will not\n",
    "# remove the other one.\n",
    "expectation_suite_name = \"aurzov_suite\"\n",
    "suite = context.get_expectation_suite(expectation_suite_name)\n",
    "suite.expectations = []\n",
    "\n",
    "batch_kwargs = {'data_asset_name': 'public.ods_payments', 'datasource': 'gp', 'limit': 1000, 'schema': 'public', 'table': 'ods_payments'}\n",
    "batch = context.get_batch(batch_kwargs, suite)\n",
    "batch.head()"
   ]
  },
  {
   "cell_type": "markdown",
   "id": "c1f68532",
   "metadata": {},
   "source": [
    "## Create & Edit Expectations\n",
    "\n",
    "Add expectations by calling specific expectation methods on the `batch` object. They all begin with `.expect_` which makes autocompleting easy using tab.\n",
    "\n",
    "You can see all the available expectations in the **[expectation glossary](https://docs.greatexpectations.io/en/latest/reference/glossary_of_expectations.html?utm_source=notebook&utm_medium=create_expectations)**."
   ]
  },
  {
   "cell_type": "markdown",
   "id": "49940c94",
   "metadata": {},
   "source": [
    "### Table Expectation(s)"
   ]
  },
  {
   "cell_type": "code",
   "execution_count": null,
   "id": "4a386053",
   "metadata": {},
   "outputs": [],
   "source": [
    "batch.expect_table_row_count_to_be_between(max_value=1100, min_value=900)"
   ]
  },
  {
   "cell_type": "code",
   "execution_count": 3,
   "id": "8024565b",
   "metadata": {},
   "outputs": [
    {
     "data": {
      "text/plain": [
       "{\n",
       "  \"meta\": {},\n",
       "  \"exception_info\": {\n",
       "    \"raised_exception\": false,\n",
       "    \"exception_traceback\": null,\n",
       "    \"exception_message\": null\n",
       "  },\n",
       "  \"result\": {\n",
       "    \"observed_value\": 8\n",
       "  },\n",
       "  \"success\": true\n",
       "}"
      ]
     },
     "execution_count": 3,
     "metadata": {},
     "output_type": "execute_result"
    }
   ],
   "source": [
    "batch.expect_table_column_count_to_equal(value=8)"
   ]
  },
  {
   "cell_type": "code",
   "execution_count": 4,
   "id": "57e98c9d",
   "metadata": {},
   "outputs": [
    {
     "data": {
      "text/plain": [
       "{\n",
       "  \"meta\": {},\n",
       "  \"exception_info\": {\n",
       "    \"raised_exception\": false,\n",
       "    \"exception_traceback\": null,\n",
       "    \"exception_message\": null\n",
       "  },\n",
       "  \"result\": {\n",
       "    \"observed_value\": [\n",
       "      \"user_id\",\n",
       "      \"pay_doc_type\",\n",
       "      \"pay_doc_num\",\n",
       "      \"account\",\n",
       "      \"phone\",\n",
       "      \"billing_period\",\n",
       "      \"pay_date\",\n",
       "      \"sum\"\n",
       "    ]\n",
       "  },\n",
       "  \"success\": true\n",
       "}"
      ]
     },
     "execution_count": 4,
     "metadata": {},
     "output_type": "execute_result"
    }
   ],
   "source": [
    "batch.expect_table_columns_to_match_ordered_list(column_list=['user_id', 'pay_doc_type', 'pay_doc_num', 'account', 'phone', 'billing_period', 'pay_date', 'sum'])"
   ]
  },
  {
   "cell_type": "markdown",
   "id": "432200eb",
   "metadata": {},
   "source": [
    "### Column Expectation(s)"
   ]
  },
  {
   "cell_type": "markdown",
   "id": "992bb880",
   "metadata": {},
   "source": [
    "#### `pay_doc_type`"
   ]
  },
  {
   "cell_type": "code",
   "execution_count": 5,
   "id": "36aa0653",
   "metadata": {},
   "outputs": [
    {
     "data": {
      "text/plain": [
       "{\n",
       "  \"meta\": {},\n",
       "  \"exception_info\": {\n",
       "    \"raised_exception\": false,\n",
       "    \"exception_traceback\": null,\n",
       "    \"exception_message\": null\n",
       "  },\n",
       "  \"result\": {\n",
       "    \"element_count\": 1000,\n",
       "    \"unexpected_count\": 0,\n",
       "    \"unexpected_percent\": 0.0,\n",
       "    \"unexpected_percent_total\": 0.0,\n",
       "    \"partial_unexpected_list\": []\n",
       "  },\n",
       "  \"success\": true\n",
       "}"
      ]
     },
     "execution_count": 5,
     "metadata": {},
     "output_type": "execute_result"
    }
   ],
   "source": [
    "batch.expect_column_values_to_not_be_null(column='pay_doc_type')"
   ]
  },
  {
   "cell_type": "code",
   "execution_count": 6,
   "id": "b0cfaa4d",
   "metadata": {},
   "outputs": [
    {
     "data": {
      "text/plain": [
       "{\n",
       "  \"meta\": {},\n",
       "  \"exception_info\": {\n",
       "    \"raised_exception\": false,\n",
       "    \"exception_traceback\": null,\n",
       "    \"exception_message\": null\n",
       "  },\n",
       "  \"result\": {\n",
       "    \"observed_value\": [\n",
       "      \"MASTER\",\n",
       "      \"MIR\",\n",
       "      \"VISA\"\n",
       "    ],\n",
       "    \"element_count\": 1000,\n",
       "    \"missing_count\": null,\n",
       "    \"missing_percent\": null\n",
       "  },\n",
       "  \"success\": true\n",
       "}"
      ]
     },
     "execution_count": 6,
     "metadata": {},
     "output_type": "execute_result"
    }
   ],
   "source": [
    "batch.expect_column_distinct_values_to_be_in_set(column='pay_doc_type', value_set=['MASTER', 'MIR', 'VISA'])"
   ]
  },
  {
   "cell_type": "code",
   "execution_count": null,
   "id": "54f5e323",
   "metadata": {},
   "outputs": [],
   "source": [
    "batch.expect_column_kl_divergence_to_be_less_than(column='pay_doc_type', partition_object={'values': ['MASTER', 'MIR', 'VISA'], 'weights': [0.335, 0.349, 0.316]}, threshold=0.6)"
   ]
  },
  {
   "cell_type": "markdown",
   "id": "ff3f26b2",
   "metadata": {},
   "source": [
    "#### `pay_doc_num`"
   ]
  },
  {
   "cell_type": "code",
   "execution_count": 7,
   "id": "546a7d51",
   "metadata": {},
   "outputs": [
    {
     "data": {
      "text/plain": [
       "{\n",
       "  \"meta\": {},\n",
       "  \"exception_info\": {\n",
       "    \"raised_exception\": false,\n",
       "    \"exception_traceback\": null,\n",
       "    \"exception_message\": null\n",
       "  },\n",
       "  \"result\": {\n",
       "    \"element_count\": 1000,\n",
       "    \"unexpected_count\": 0,\n",
       "    \"unexpected_percent\": 0.0,\n",
       "    \"unexpected_percent_total\": 0.0,\n",
       "    \"partial_unexpected_list\": []\n",
       "  },\n",
       "  \"success\": true\n",
       "}"
      ]
     },
     "execution_count": 7,
     "metadata": {},
     "output_type": "execute_result"
    }
   ],
   "source": [
    "batch.expect_column_values_to_not_be_null(column='pay_doc_num')"
   ]
  },
  {
   "cell_type": "code",
   "execution_count": null,
   "id": "0583fbf5",
   "metadata": {},
   "outputs": [],
   "source": [
    "batch.expect_column_min_to_be_between(column='pay_doc_num', max_value=5, min_value=3)"
   ]
  },
  {
   "cell_type": "code",
   "execution_count": null,
   "id": "01379a0a",
   "metadata": {},
   "outputs": [],
   "source": [
    "batch.expect_column_max_to_be_between(column='pay_doc_num', max_value=49990, min_value=49988)"
   ]
  },
  {
   "cell_type": "code",
   "execution_count": null,
   "id": "1d4b90a7",
   "metadata": {},
   "outputs": [],
   "source": [
    "batch.expect_column_mean_to_be_between(column='pay_doc_num', max_value=25460.085, min_value=25458.085)"
   ]
  },
  {
   "cell_type": "code",
   "execution_count": null,
   "id": "8c46a683",
   "metadata": {},
   "outputs": [],
   "source": [
    "batch.expect_column_median_to_be_between(column='pay_doc_num', max_value=25550.0, min_value=25548.0)"
   ]
  },
  {
   "cell_type": "code",
   "execution_count": null,
   "id": "80df7a05",
   "metadata": {},
   "outputs": [],
   "source": [
    "batch.expect_column_quantile_values_to_be_between(column='pay_doc_num', allow_relative_error=True, quantile_ranges={'quantiles': [0.05, 0.25, 0.5, 0.75, 0.95], 'value_ranges': [[2626, 2628], [12622, 12624], [25535, 25537], [38394, 38396], [48247, 48249]]})"
   ]
  },
  {
   "cell_type": "code",
   "execution_count": 8,
   "id": "433ddda0",
   "metadata": {},
   "outputs": [
    {
     "data": {
      "text/plain": [
       "{\n",
       "  \"meta\": {},\n",
       "  \"exception_info\": {\n",
       "    \"raised_exception\": false,\n",
       "    \"exception_traceback\": null,\n",
       "    \"exception_message\": null\n",
       "  },\n",
       "  \"result\": {\n",
       "    \"element_count\": 1000,\n",
       "    \"missing_count\": 0,\n",
       "    \"missing_percent\": 0.0,\n",
       "    \"unexpected_count\": 26,\n",
       "    \"unexpected_percent\": 2.6,\n",
       "    \"unexpected_percent_total\": 2.6,\n",
       "    \"unexpected_percent_nonmissing\": 2.6,\n",
       "    \"partial_unexpected_list\": [\n",
       "      23268,\n",
       "      12744,\n",
       "      27450,\n",
       "      27450,\n",
       "      12744,\n",
       "      1811,\n",
       "      1943,\n",
       "      1811,\n",
       "      1943,\n",
       "      23268,\n",
       "      34729,\n",
       "      25076,\n",
       "      25076,\n",
       "      43020,\n",
       "      29726,\n",
       "      34729,\n",
       "      43020,\n",
       "      4501,\n",
       "      29726,\n",
       "      5070\n",
       "    ]\n",
       "  },\n",
       "  \"success\": false\n",
       "}"
      ]
     },
     "execution_count": 8,
     "metadata": {},
     "output_type": "execute_result"
    }
   ],
   "source": [
    "batch.expect_column_values_to_be_unique(column='pay_doc_num')"
   ]
  },
  {
   "cell_type": "markdown",
   "id": "d85d522f",
   "metadata": {},
   "source": [
    "#### `account`"
   ]
  },
  {
   "cell_type": "code",
   "execution_count": 9,
   "id": "e5df8d80",
   "metadata": {},
   "outputs": [
    {
     "data": {
      "text/plain": [
       "{\n",
       "  \"meta\": {},\n",
       "  \"exception_info\": {\n",
       "    \"raised_exception\": false,\n",
       "    \"exception_traceback\": null,\n",
       "    \"exception_message\": null\n",
       "  },\n",
       "  \"result\": {\n",
       "    \"element_count\": 1000,\n",
       "    \"unexpected_count\": 0,\n",
       "    \"unexpected_percent\": 0.0,\n",
       "    \"unexpected_percent_total\": 0.0,\n",
       "    \"partial_unexpected_list\": []\n",
       "  },\n",
       "  \"success\": true\n",
       "}"
      ]
     },
     "execution_count": 9,
     "metadata": {},
     "output_type": "execute_result"
    }
   ],
   "source": [
    "batch.expect_column_values_to_not_be_null(column='account')"
   ]
  },
  {
   "cell_type": "code",
   "execution_count": null,
   "id": "fc3efa9c",
   "metadata": {},
   "outputs": [],
   "source": [
    "batch.expect_column_value_lengths_to_be_between(column='account', min_value=1)"
   ]
  },
  {
   "cell_type": "code",
   "execution_count": 13,
   "id": "e3b99f64",
   "metadata": {},
   "outputs": [
    {
     "data": {
      "text/plain": [
       "{\n",
       "  \"meta\": {},\n",
       "  \"exception_info\": {\n",
       "    \"raised_exception\": false,\n",
       "    \"exception_traceback\": null,\n",
       "    \"exception_message\": null\n",
       "  },\n",
       "  \"result\": {\n",
       "    \"element_count\": 1000,\n",
       "    \"missing_count\": 0,\n",
       "    \"missing_percent\": 0.0,\n",
       "    \"unexpected_count\": 0,\n",
       "    \"unexpected_percent\": 0.0,\n",
       "    \"unexpected_percent_total\": 0.0,\n",
       "    \"unexpected_percent_nonmissing\": 0.0,\n",
       "    \"partial_unexpected_list\": []\n",
       "  },\n",
       "  \"success\": true\n",
       "}"
      ]
     },
     "execution_count": 13,
     "metadata": {},
     "output_type": "execute_result"
    }
   ],
   "source": [
    "batch.expect_column_values_to_match_regex(column='account', regex='[FL-]+')"
   ]
  },
  {
   "cell_type": "markdown",
   "id": "44c14689",
   "metadata": {},
   "source": [
    "#### `pay_date`"
   ]
  },
  {
   "cell_type": "code",
   "execution_count": 14,
   "id": "a918ab24",
   "metadata": {
    "scrolled": true
   },
   "outputs": [
    {
     "data": {
      "text/plain": [
       "{\n",
       "  \"meta\": {},\n",
       "  \"exception_info\": {\n",
       "    \"raised_exception\": false,\n",
       "    \"exception_traceback\": null,\n",
       "    \"exception_message\": null\n",
       "  },\n",
       "  \"result\": {\n",
       "    \"element_count\": 1000,\n",
       "    \"unexpected_count\": 0,\n",
       "    \"unexpected_percent\": 0.0,\n",
       "    \"unexpected_percent_total\": 0.0,\n",
       "    \"partial_unexpected_list\": []\n",
       "  },\n",
       "  \"success\": true\n",
       "}"
      ]
     },
     "execution_count": 14,
     "metadata": {},
     "output_type": "execute_result"
    }
   ],
   "source": [
    "batch.expect_column_values_to_not_be_null(column='pay_date')"
   ]
  },
  {
   "cell_type": "code",
   "execution_count": 20,
   "id": "339a623d",
   "metadata": {},
   "outputs": [
    {
     "data": {
      "text/plain": [
       "{\n",
       "  \"meta\": {},\n",
       "  \"exception_info\": {\n",
       "    \"raised_exception\": false,\n",
       "    \"exception_traceback\": null,\n",
       "    \"exception_message\": null\n",
       "  },\n",
       "  \"result\": {\n",
       "    \"element_count\": 1000,\n",
       "    \"missing_count\": 0,\n",
       "    \"missing_percent\": 0.0,\n",
       "    \"unexpected_count\": 0,\n",
       "    \"unexpected_percent\": 0.0,\n",
       "    \"unexpected_percent_total\": 0.0,\n",
       "    \"unexpected_percent_nonmissing\": 0.0,\n",
       "    \"partial_unexpected_list\": []\n",
       "  },\n",
       "  \"success\": true\n",
       "}"
      ]
     },
     "execution_count": 20,
     "metadata": {},
     "output_type": "execute_result"
    }
   ],
   "source": [
    "batch.expect_column_values_to_be_between(column='pay_date', max_value=datetime.datetime.now(), min_value='2012-01-05 00:00:00', parse_strings_as_datetimes=True)"
   ]
  },
  {
   "cell_type": "markdown",
   "id": "ca599cbc",
   "metadata": {},
   "source": [
    "#### `sum`"
   ]
  },
  {
   "cell_type": "code",
   "execution_count": 33,
   "id": "34c1c6c9",
   "metadata": {},
   "outputs": [
    {
     "data": {
      "text/plain": [
       "{\n",
       "  \"meta\": {},\n",
       "  \"exception_info\": {\n",
       "    \"raised_exception\": false,\n",
       "    \"exception_traceback\": null,\n",
       "    \"exception_message\": null\n",
       "  },\n",
       "  \"result\": {\n",
       "    \"observed_value\": \"NUMERIC\"\n",
       "  },\n",
       "  \"success\": true\n",
       "}"
      ]
     },
     "execution_count": 33,
     "metadata": {},
     "output_type": "execute_result"
    }
   ],
   "source": [
    "batch.expect_column_values_to_be_of_type(column='sum', type_='NUMERIC')"
   ]
  },
  {
   "cell_type": "markdown",
   "id": "26bc6766",
   "metadata": {},
   "source": [
    "## Save & Review Your Expectations\n",
    "\n",
    "Let's save the expectation suite as a JSON file in the `great_expectations/expectations` directory of your project.\n",
    "If you decide not to save some expectations that you created, use [remove_expectation method](https://docs.greatexpectations.io/en/latest/autoapi/great_expectations/data_asset/index.html?highlight=remove_expectation&utm_source=notebook&utm_medium=edit_expectations#great_expectations.data_asset.DataAsset.remove_expectation).\n",
    "\n",
    "Let's now rebuild your Data Docs, which helps you communicate about your data with both machines and humans."
   ]
  },
  {
   "cell_type": "code",
   "execution_count": 34,
   "id": "29038df1",
   "metadata": {},
   "outputs": [
    {
     "name": "stdout",
     "output_type": "stream",
     "text": [
      "2021-05-23T11:41:18+1000 - INFO - \t11 expectation(s) included in expectation_suite. result_format settings filtered.\n",
      "2021-05-23T11:41:19+1000 - INFO - Generating query from table batch_kwargs based on limit and offset\n",
      "2021-05-23T11:41:21+1000 - INFO - Setting run_name to: 20210523T014121.595621Z\n",
      "2021-05-23T11:41:21+1000 - INFO - \t11 expectation(s) included in expectation_suite.\n"
     ]
    }
   ],
   "source": [
    "batch.save_expectation_suite(discard_failed_expectations=False)\n",
    "\n",
    "results = LegacyCheckpoint(\n",
    "    name=\"_temp_checkpoint\",\n",
    "    data_context=context,\n",
    "    batches=[\n",
    "        {\n",
    "          \"batch_kwargs\": batch_kwargs,\n",
    "          \"expectation_suite_names\": [expectation_suite_name]\n",
    "        }\n",
    "    ]\n",
    ").run()\n",
    "validation_result_identifier = results.list_validation_result_identifiers()[0]\n",
    "context.build_data_docs()\n",
    "context.open_data_docs(validation_result_identifier)"
   ]
  }
 ],
 "metadata": {
  "kernelspec": {
   "display_name": "Python 3",
   "language": "python",
   "name": "python3"
  },
  "language_info": {
   "codemirror_mode": {
    "name": "ipython",
    "version": 3
   },
   "file_extension": ".py",
   "mimetype": "text/x-python",
   "name": "python",
   "nbconvert_exporter": "python",
   "pygments_lexer": "ipython3",
   "version": "3.8.10"
  }
 },
 "nbformat": 4,
 "nbformat_minor": 5
}
